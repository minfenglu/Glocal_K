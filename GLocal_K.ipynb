{
  "cells": [
    {
      "cell_type": "code",
      "execution_count": null,
      "metadata": {
        "colab": {
          "base_uri": "https://localhost:8080/"
        },
        "id": "ty3gYQgtnwFA",
        "outputId": "6fcf4f41-4820-4ac2-8ffd-c2ff331fd167"
      },
      "outputs": [
        {
          "output_type": "stream",
          "name": "stdout",
          "text": [
            "Mounted at /content/drive\n"
          ]
        }
      ],
      "source": [
        "from google.colab import drive\n",
        "drive.mount('/content/drive')"
      ]
    },
    {
      "cell_type": "code",
      "execution_count": null,
      "metadata": {
        "id": "nl2tU6kL8Ot3"
      },
      "outputs": [],
      "source": [
        "from time import time\n",
        "from scipy.sparse import csc_matrix\n",
        "from scipy.optimize import minimize\n",
        "import tensorflow as tf\n",
        "import numpy as np\n",
        "import h5py"
      ]
    },
    {
      "cell_type": "code",
      "execution_count": null,
      "metadata": {
        "colab": {
          "base_uri": "https://localhost:8080/"
        },
        "id": "pcyWCv_WvSKC",
        "outputId": "9e222481-133f-4000-e9c7-52de0a3083f3"
      },
      "outputs": [
        {
          "output_type": "stream",
          "name": "stdout",
          "text": [
            "2.12.0\n"
          ]
        }
      ],
      "source": [
        "print(tf.__version__)"
      ]
    },
    {
      "cell_type": "markdown",
      "metadata": {
        "id": "SK1jtJqr8r2Q"
      },
      "source": [
        "**MovieLens Dataset**\n",
        "\n",
        "This dataset contains a set of movie ratings from the MovieLens website, a movie recommendation service. This dataset was collected and maintained by GroupLens, a research group at the University of Minnesota.\n",
        "\n",
        "**Douban**\n",
        "\n",
        "This dataset includes three domains, i.e., movie, music, and book, and different kinds of raw information, i.e., ratings, reviews, item details, user profiles, tags (labels), and date\n"
      ]
    },
    {
      "cell_type": "markdown",
      "metadata": {
        "id": "k4A9uU1WloQ2"
      },
      "source": [
        "# Data Loader Function"
      ]
    },
    {
      "cell_type": "code",
      "execution_count": null,
      "metadata": {
        "id": "cq3KEUaVo1o3"
      },
      "outputs": [],
      "source": [
        "'''\n",
        "MovieLens-100K\n",
        "100,000 ratings (1-5) from 943 users on 1682 movies.\n",
        "'''\n",
        "\n",
        "def load_data_100k(path='./', delimiter='\\t'):\n",
        "\n",
        "    train = np.loadtxt(path+'movielens_100k_u1.base', skiprows=0, delimiter=delimiter).astype('int32')\n",
        "    test = np.loadtxt(path+'movielens_100k_u1.test', skiprows=0, delimiter=delimiter).astype('int32')\n",
        "    total = np.concatenate((train, test), axis=0)\n",
        "    n_u = np.unique(total[:,0]).size  # num of users\n",
        "    n_m = np.unique(total[:,1]).size  # num of movies\n",
        "    n_train = train.shape[0]  # num of training ratings\n",
        "    n_test = test.shape[0]  # num of test ratings\n",
        "    train_r = np.zeros((n_m, n_u), dtype='float32')\n",
        "    test_r = np.zeros((n_m, n_u), dtype='float32')\n",
        "\n",
        "    for i in range(n_train):\n",
        "        if train[i,1] < len(train_r) and train[i,0]-1 < len(train_r[0]):\n",
        "            train_r[train[i,1]-1, train[i,0]-1] = train[i,2]\n",
        "\n",
        "    for i in range(n_test):\n",
        "        if test[i,1] < len(test_r) and test[i,0]-1 < len(test_r[0]):\n",
        "            test_r[test[i,1]-1, test[i,0]-1] = test[i,2]\n",
        "\n",
        "    train_m = np.greater(train_r, 1e-12).astype('float32')  # masks indicating non-zero entries\n",
        "    test_m = np.greater(test_r, 1e-12).astype('float32')\n",
        "\n",
        "    print('data matrix loaded')\n",
        "    print('num of users: {}'.format(n_u))\n",
        "    print('num of movies: {}'.format(n_m))\n",
        "    print('num of training ratings: {}'.format(n_train))\n",
        "    print('num of test ratings: {}'.format(n_test))\n",
        "\n",
        "    return n_m, n_u, train_r, train_m, test_r, test_m"
      ]
    },
    {
      "cell_type": "code",
      "execution_count": null,
      "metadata": {
        "id": "P3e8Xg3us8g7"
      },
      "outputs": [],
      "source": [
        "'''\n",
        "MovieLens-1M\n",
        "1,000,209 anonymous ratings of approximately 3,900 movies\n",
        "made by 6,040 MovieLens users\n",
        "'''\n",
        "def load_data_1m(path='./', delimiter='::', frac=0.1, seed=1234):\n",
        "\n",
        "    tic = time()\n",
        "    print('reading data...')\n",
        "    data = np.loadtxt(path+'movielens_1m_dataset.dat', skiprows=0, delimiter=delimiter).astype('int32')\n",
        "    print('taken', time() - tic, 'seconds')\n",
        "\n",
        "    n_u = np.unique(data[:,0]).size  # num of users\n",
        "    n_m = np.unique(data[:,1]).size  # num of movies\n",
        "    n_r = data.shape[0]  # num of ratings\n",
        "\n",
        "    udict = {}\n",
        "    for i, u in enumerate(np.unique(data[:,0]).tolist()):\n",
        "        udict[u] = i\n",
        "    mdict = {}\n",
        "    for i, m in enumerate(np.unique(data[:,1]).tolist()):\n",
        "        mdict[m] = i\n",
        "\n",
        "    np.random.seed(seed)\n",
        "    idx = np.arange(n_r)\n",
        "    np.random.shuffle(idx)\n",
        "\n",
        "    train_r = np.zeros((n_m, n_u), dtype='float32')\n",
        "    test_r = np.zeros((n_m, n_u), dtype='float32')\n",
        "\n",
        "    for i in range(n_r):\n",
        "        u_id = data[idx[i], 0]\n",
        "        m_id = data[idx[i], 1]\n",
        "        r = data[idx[i], 2]\n",
        "\n",
        "        if i < int(frac * n_r):\n",
        "            test_r[mdict[m_id], udict[u_id]] = r\n",
        "        else:\n",
        "            train_r[mdict[m_id], udict[u_id]] = r\n",
        "\n",
        "    train_m = np.greater(train_r, 1e-12).astype('float32')  # masks indicating non-zero entries\n",
        "    test_m = np.greater(test_r, 1e-12).astype('float32')\n",
        "\n",
        "    print('data matrix loaded')\n",
        "    print('num of users: {}'.format(n_u))\n",
        "    print('num of movies: {}'.format(n_m))\n",
        "    print('num of training ratings: {}'.format(n_r - int(frac * n_r)))\n",
        "    print('num of test ratings: {}'.format(int(frac * n_r)))\n",
        "\n",
        "    return n_m, n_u, train_r, train_m, test_r, test_m"
      ]
    },
    {
      "cell_type": "code",
      "execution_count": null,
      "metadata": {
        "id": "7rMjcbLvhtRs"
      },
      "outputs": [],
      "source": [
        "def load_matlab_file(path_file, name_field):\n",
        "\n",
        "    db = h5py.File(path_file, 'r')\n",
        "    ds = db[name_field]\n",
        "\n",
        "    try:\n",
        "        if 'ir' in ds.keys():\n",
        "            data = np.asarray(ds['data'])\n",
        "            ir   = np.asarray(ds['ir'])\n",
        "            jc   = np.asarray(ds['jc'])\n",
        "            out  = csc_matrix((data, ir, jc)).astype(np.float32)\n",
        "    except AttributeError:\n",
        "        out = np.asarray(ds).astype(np.float32).T\n",
        "\n",
        "    db.close()\n",
        "\n",
        "    return out"
      ]
    },
    {
      "cell_type": "code",
      "execution_count": null,
      "metadata": {
        "id": "g6pIUrkza2zv"
      },
      "outputs": [],
      "source": [
        "def load_data_monti(path='./'):\n",
        "\n",
        "    M = load_matlab_file(path+'douban_monti_dataset.mat', 'M')\n",
        "    Otraining = load_matlab_file(path+'douban_monti_dataset.mat', 'Otraining') * M\n",
        "    Otest = load_matlab_file(path+'douban_monti_dataset.mat', 'Otest') * M\n",
        "\n",
        "    n_u = M.shape[0]  # num of users\n",
        "    n_m = M.shape[1]  # num of movies\n",
        "    n_train = Otraining[np.where(Otraining)].size  # num of training ratings\n",
        "    n_test = Otest[np.where(Otest)].size  # num of test ratings\n",
        "\n",
        "    train_r = Otraining.T\n",
        "    test_r = Otest.T\n",
        "\n",
        "    train_m = np.greater(train_r, 1e-12).astype('float32')  # masks indicating non-zero entries\n",
        "    test_m = np.greater(test_r, 1e-12).astype('float32')\n",
        "\n",
        "    print('data matrix loaded')\n",
        "    print('num of users: {}'.format(n_u))\n",
        "    print('num of movies: {}'.format(n_m))\n",
        "    print('num of training ratings: {}'.format(n_train))\n",
        "    print('num of test ratings: {}'.format(n_test))\n",
        "\n",
        "    return n_m, n_u, train_r, train_m, test_r, test_m"
      ]
    },
    {
      "cell_type": "markdown",
      "metadata": {
        "id": "E_8kEkg9mlIW"
      },
      "source": [
        "# Load Data"
      ]
    },
    {
      "cell_type": "code",
      "execution_count": null,
      "metadata": {
        "id": "0fkA1WpmipzF"
      },
      "outputs": [],
      "source": [
        "# Insert the path of a data directory by yourself (e.g., '/content/.../data')\n",
        "# .-^-._.-^-._.-^-._.-^-._.-^-._.-^-._.-^-._.-^-._.-^-._.-^-._\n",
        "data_path = '/content/drive/My Drive/Colab Notebooks/GLocal_K/data'\n",
        "# .-^-._.-^-._.-^-._.-^-._.-^-._.-^-._.-^-._.-^-._.-^-._.-^-._"
      ]
    },
    {
      "cell_type": "code",
      "execution_count": null,
      "metadata": {
        "id": "ijlu0lXQioYM"
      },
      "outputs": [],
      "source": [
        "# Select a dataset among 'ML-1M', 'ML-100K', and 'Douban'\n",
        "# .-^-._.-^-._.-^-._.-^-._.-^-._.-^-._.-^-._.-^-._.-^-._.-^-._\n",
        "dataset = 'ML-100K'\n",
        "# .-^-._.-^-._.-^-._.-^-._.-^-._.-^-._.-^-._.-^-._.-^-._.-^-._"
      ]
    },
    {
      "cell_type": "code",
      "execution_count": null,
      "metadata": {
        "colab": {
          "base_uri": "https://localhost:8080/"
        },
        "id": "sJqSSY33mgkw",
        "outputId": "fe90fb36-ffe0-4c9e-da69-3ac37bcad826"
      },
      "outputs": [
        {
          "output_type": "stream",
          "name": "stdout",
          "text": [
            "data matrix loaded\n",
            "num of users: 13\n",
            "num of movies: 580\n",
            "num of training ratings: 900\n",
            "num of test ratings: 100\n"
          ]
        }
      ],
      "source": [
        "# Data Load\n",
        "try:\n",
        "    if dataset == 'ML-100K':\n",
        "        path = data_path + '/MovieLens_100K/'\n",
        "        n_m, n_u, train_r, train_m, test_r, test_m = load_data_100k(path=path, delimiter='\\t')\n",
        "\n",
        "    elif dataset == 'ML-1M':\n",
        "        path = data_path + '/MovieLens_1M/'\n",
        "        n_m, n_u, train_r, train_m, test_r, test_m = load_data_1m(path=path, delimiter='::', frac=0.1, seed=1234)\n",
        "\n",
        "    elif dataset == 'Douban':\n",
        "        path = data_path + '/Douban_monti/'\n",
        "        n_m, n_u, train_r, train_m, test_r, test_m = load_data_monti(path=path)\n",
        "\n",
        "    else:\n",
        "        raise ValueError\n",
        "\n",
        "except ValueError:\n",
        "    print('Error: Unable to load data')"
      ]
    },
    {
      "cell_type": "code",
      "execution_count": null,
      "metadata": {
        "id": "eBpkLb49Ffvw"
      },
      "outputs": [],
      "source": []
    },
    {
      "cell_type": "markdown",
      "metadata": {
        "id": "YpBc28PbNBUL"
      },
      "source": [
        "# Performance Comaprision"
      ]
    },
    {
      "cell_type": "markdown",
      "metadata": {
        "id": "06N_pOqWNHMx"
      },
      "source": [
        "![Screenshot 2023-07-31 at 6.48.22 AM.png](data:image/png;base64,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)"
      ]
    },
    {
      "cell_type": "markdown",
      "metadata": {
        "id": "wQMtA9yml-gp"
      },
      "source": [
        "# Hyperparameter Settings"
      ]
    },
    {
      "cell_type": "code",
      "execution_count": null,
      "metadata": {
        "id": "nGCdp_FlobOK"
      },
      "outputs": [],
      "source": [
        "# Common hyperparameter settings\n",
        "n_hid = 500 # hidden layers\n",
        "n_dim = 5 # RBF kernel\n",
        "n_layers = 2 # number of convolution layers\n",
        "gk_size = 3 # 3x3 global convolution kernel\n",
        "batch_size = 32"
      ]
    },
    {
      "cell_type": "code",
      "execution_count": null,
      "metadata": {
        "id": "344bwGB0cWXp"
      },
      "outputs": [],
      "source": [
        "# Different hyperparameter settings for each dataset\n",
        "if dataset == 'ML-100K':\n",
        "    lambda_2 = 20.  # l2 regularisation\n",
        "    lambda_s = 0.006\n",
        "    iter_p = 5  # optimisation\n",
        "    iter_f = 5\n",
        "    epoch_p = 30  # training epoch\n",
        "    epoch_f = 60\n",
        "    dot_scale = 1  # scaled dot product\n",
        "\n",
        "elif dataset == 'ML-1M':\n",
        "    lambda_2 = 70.\n",
        "    lambda_s = 0.018\n",
        "    iter_p = 50\n",
        "    iter_f = 10\n",
        "    epoch_p = 20\n",
        "    epoch_f = 30\n",
        "    dot_scale = 0.5\n",
        "\n",
        "elif dataset == 'Douban':\n",
        "    lambda_2 = 10.\n",
        "    lambda_s = 0.022\n",
        "    iter_p = 5\n",
        "    iter_f = 5\n",
        "    epoch_p = 20\n",
        "    epoch_f = 60\n",
        "    dot_scale = 2"
      ]
    },
    {
      "cell_type": "markdown",
      "metadata": {
        "id": "5sWtU4-pmDDT"
      },
      "source": [
        "# Network Function"
      ]
    },
    {
      "cell_type": "markdown",
      "metadata": {
        "id": "8NgXUWUqZ64I"
      },
      "source": [
        "![Screenshot 2023-07-30 at 5.44.37 PM.png](data:image/png;base64,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)"
      ]
    },
    {
      "cell_type": "code",
      "execution_count": null,
      "metadata": {
        "id": "wX2wREO09zde"
      },
      "outputs": [],
      "source": [
        "def local_kernel(u, v):\n",
        "\n",
        "    dist = tf.norm(u - v, ord=2, axis=2)\n",
        "    hat = tf.maximum(0., 1. - dist**2)\n",
        "    return hat"
      ]
    },
    {
      "cell_type": "code",
      "execution_count": null,
      "metadata": {
        "id": "c88l9LYr9175"
      },
      "outputs": [],
      "source": [
        "class LocalKernelLayer(tf.keras.layers.Layer):\n",
        "    def __init__(self, n_hid=n_hid, n_dim=n_dim, lambda_s=lambda_s, lambda_2=lambda_2, activation=tf.nn.sigmoid, **kwargs):\n",
        "        super(LocalKernelLayer, self).__init__(**kwargs)\n",
        "        self.n_hid = n_hid\n",
        "        self.n_dim = n_dim\n",
        "        self.lambda_s = lambda_s\n",
        "        self.lambda_2 = lambda_2\n",
        "        self.activation = activation\n",
        "\n",
        "    def build(self, input_shape):\n",
        "        dimension_idx = 1\n",
        "        self.W = self.add_weight('W', [input_shape[dimension_idx], self.n_hid])\n",
        "        n_in = input_shape.as_list()[dimension_idx]\n",
        "        self.u = self.add_weight('u', shape=[n_in, 1, n_dim], initializer=tf.keras.initializers.TruncatedNormal(mean=0., stddev=1e-3))\n",
        "        self.v = self.add_weight('u', shape=[1, self.n_hid, n_dim], initializer=tf.keras.initializers.TruncatedNormal(mean=0., stddev=1e-3))\n",
        "        self.b = self.add_weight('b', [self.n_hid])\n",
        "\n",
        "    def call(self, x):\n",
        "        w_hat = local_kernel(self.u, self.v)\n",
        "        sparse_reg = tf.keras.regularizers.l2(self.lambda_s)\n",
        "        sparse_reg_term = sparse_reg(w_hat)\n",
        "        l2_reg = tf.keras.regularizers.l2(self.lambda_2)\n",
        "        l2_reg_term = l2_reg(self.W)\n",
        "        W_eff = self.W * w_hat  # Local kernelised weight matrix\n",
        "\n",
        "        y = tf.matmul(x, W_eff) + self.b\n",
        "        y = self.activation(y)\n",
        "        self.add_loss(sparse_reg_term + l2_reg_term)\n",
        "        return y\n",
        "\n",
        "\n",
        "\n"
      ]
    },
    {
      "cell_type": "markdown",
      "metadata": {
        "id": "hAXbLu5CcJcS"
      },
      "source": [
        "![Screenshot 2023-07-30 at 5.54.19 PM.png](data:image/png;base64,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)"
      ]
    },
    {
      "cell_type": "code",
      "execution_count": null,
      "metadata": {
        "id": "rlb95FmRVATa"
      },
      "outputs": [],
      "source": [
        "def global_kernel(input, gk_size, dot_scale):\n",
        "    avg_pooling = tf.reduce_mean(input, axis=1)  # Item (axis=1) based average pooling\n",
        "    avg_pooling = tf.reshape(avg_pooling, [1, -1])\n",
        "    n_kernel = avg_pooling.shape[1]\n",
        "    conv_kernel = tf.Variable(tf.random.truncated_normal([n_kernel, gk_size**2], stddev=0.1), name='conv_kernel')\n",
        "    gk = tf.matmul(avg_pooling, conv_kernel) * dot_scale  # Scaled dot product\n",
        "    gk = tf.reshape(gk, [gk_size, gk_size, 1, 1])\n",
        "\n",
        "    return gk"
      ]
    },
    {
      "cell_type": "code",
      "execution_count": null,
      "metadata": {
        "id": "jTLi_65XzIbH"
      },
      "outputs": [],
      "source": [
        "def global_conv(input, W):\n",
        "    input = tf.reshape(input, [1, input.shape[0], input.shape[1], 1])\n",
        "    conv2d = tf.nn.relu(tf.nn.conv2d(input, W, strides=[1,1,1,1], padding='SAME'))\n",
        "    return tf.reshape(conv2d, [conv2d.shape[1], conv2d.shape[2]])"
      ]
    },
    {
      "cell_type": "markdown",
      "metadata": {
        "id": "f8sQCwrSmKG4"
      },
      "source": [
        "# Network Instantiation"
      ]
    },
    {
      "cell_type": "markdown",
      "metadata": {
        "id": "zOtWj1SCo1RW"
      },
      "source": [
        "## Pre-training"
      ]
    },
    {
      "cell_type": "code",
      "execution_count": null,
      "metadata": {
        "id": "7teUrgWagpW0"
      },
      "outputs": [],
      "source": [
        "class PreTrainModel(tf.keras.Model):\n",
        "    def __init__(self, n_layers=n_layers, n_hid=n_hid, n_dim=n_dim, lambda_s=lambda_s, lambda_2=lambda_2):\n",
        "        super(PreTrainModel, self).__init__()\n",
        "        self.layers_list = [LocalKernelLayer(name=str(i)) for i in range(n_layers)]\n",
        "        self.layers_list.append(LocalKernelLayer(n_u, activation=tf.identity, name='out'))\n",
        "\n",
        "    def call(self, x, batch_idx):\n",
        "        train_r = tf.identity(x, name=None)\n",
        "        train_m = np.greater(train_r, 1e-12).astype('float32')  # masks indicating non-zero entries\n",
        "\n",
        "        reg_losses = []\n",
        "        for i, layer in enumerate(self.layers_list[:-1]):\n",
        "            x = layer(x)\n",
        "            reg_losses.extend(layer.losses)\n",
        "        pred_p = self.layers_list[-1](x)\n",
        "        reg_losses.extend(self.layers_list[-1].losses)\n",
        "\n",
        "        # L2 loss\n",
        "        diff = train_m * (train_r - pred_p)\n",
        "        sqE = tf.nn.l2_loss(diff)\n",
        "        loss_p = sqE +  sum(reg_losses)\n",
        "        begin_idx = batch_size * batch_idx\n",
        "        end_idx = batch_size * (batch_idx + 1)\n",
        "        error_train = tf.math.reduce_sum(train_m* (np.clip(pred_p, 1., 5.) - train_r) ** 2)  # train error\n",
        "        error_test = tf.math.reduce_sum(test_m[begin_idx: end_idx, :] * (np.clip(pred_p, 1., 5.) - test_r[begin_idx: end_idx, :]) ** 2)  # test error\n",
        "        return pred_p, loss_p, error_train, error_test\n"
      ]
    },
    {
      "cell_type": "markdown",
      "metadata": {
        "id": "4IEBsNhNo4Cj"
      },
      "source": [
        "## Fine-tuning"
      ]
    },
    {
      "cell_type": "code",
      "execution_count": null,
      "metadata": {
        "id": "OiTXqnN6zLXQ"
      },
      "outputs": [],
      "source": [
        "class FineTuneModel(tf.keras.Model):\n",
        "    def __init__(self, n_layers=n_layers, n_hid=n_hid, n_dim=n_dim, lambda_s=lambda_s, lambda_2=lambda_2):\n",
        "        super(FineTuneModel, self).__init__()\n",
        "        self.n_layers = n_layers\n",
        "        self.layers_list = [LocalKernelLayer(name=str(i)) for i in range(n_layers)]\n",
        "        self.layers_list.append(LocalKernelLayer(n_u, activation=tf.identity, name='out'))\n",
        "        self.layers_list = [LocalKernelLayer(name=str(i + range(n_layers + 1))) for i in range(n_layers)]\n",
        "        self.layers_list.append(LocalKernelLayer(n_u, activation=tf.identity, name='out'))\n",
        "\n",
        "    def call(self, x, batch_idx):\n",
        "        train_r = tf.identity(x, name=None)\n",
        "        train_m = np.greater(train_r, 1e-12).astype('float32')  # masks indicating non-zero entries\n",
        "\n",
        "        reg_losses = []\n",
        "        for i, layer in enumerate(self.layers_list[:self.n_layers]):\n",
        "            x = layer(x)\n",
        "        y_dash = self.layers_list[self.n_layers](x)\n",
        "\n",
        "        gk = global_kernel(y_dash, gk_size, dot_scale)  # Global kernel\n",
        "        # TODO\n",
        "        y_hat = global_conv(train_r, gk)  # Global kernel-based rating matrix\n",
        "        for i, layer in enumerate(self.layers_list[self.n_layers + 1:]):\n",
        "            y_hat = layer(x)\n",
        "            reg_losses.extend(layer.losses)\n",
        "\n",
        "        pred_f = self.layers_list[-1](x)\n",
        "        reg_losses.extend(self.layers_list[-1].losses)\n",
        "\n",
        "\n",
        "        # L2 loss\n",
        "        diff = train_m * (train_r - pred_f)\n",
        "        sqE = tf.nn.l2_loss(diff)\n",
        "        loss_p = sqE +  sum(reg_losses)\n",
        "        begin_idx = batch_size * batch_idx\n",
        "        end_idx = batch_size * (batch_idx + 1)\n",
        "        error_train = tf.math.reduce_sum(train_m* (np.clip(pred_f, 1., 5.) - train_r) ** 2)  # train error\n",
        "        error_test = tf.math.reduce_sum(test_m[begin_idx: end_idx, :] * (np.clip(pred_f, 1., 5.) - test_r[begin_idx: end_idx, :]) ** 2)  # test error\n",
        "\n",
        "        test_mae = tf.math.reduce_sum(test_m[begin_idx: end_idx, :] * np.abs(np.clip(pred_f, 1., 5.) - test_r[begin_idx: end_idx, :]))\n",
        "        train_mae = tf.math.reduce_sum(train_m * np.abs(np.clip(pred_f, 1., 5.) - train_r))\n",
        "\n",
        "        test_ndcg = call_ndcg(np.clip(pred_f, 1., 5.), test_r[begin_idx: end_idx, :])\n",
        "        train_ndcg = call_ndcg(np.clip(pred_f, 1., 5.), train_r)\n",
        "\n",
        "        return pred_f, loss_p, error_train, error_test, test_mae, train_mae, test_ndcg, train_ndcg\n"
      ]
    },
    {
      "cell_type": "markdown",
      "metadata": {
        "id": "sETwz58aK6y6"
      },
      "source": [
        "# Evaluation code"
      ]
    },
    {
      "cell_type": "markdown",
      "metadata": {
        "id": "1gLtCK6NfBGS"
      },
      "source": [
        "![Screenshot 2023-07-30 at 6.07.00 PM.png](data:image/png;base64,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)"
      ]
    },
    {
      "cell_type": "code",
      "execution_count": null,
      "metadata": {
        "id": "vyReXxgac3KH"
      },
      "outputs": [],
      "source": [
        "# Discounted cumulative gain\n",
        "def dcg_k(score_label, k):\n",
        "    dcg, i = 0., 0\n",
        "    for s in score_label:\n",
        "        if i < k:\n",
        "            dcg += (2**s[1]-1) / np.log2(2+i)\n",
        "            i += 1\n",
        "    return dcg"
      ]
    },
    {
      "cell_type": "markdown",
      "metadata": {
        "id": "Xs3ne8T1fyYS"
      },
      "source": [
        "![Screenshot 2023-07-30 at 6.08.17 PM.png](data:image/png;base64,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)\n",
        "\n",
        "\n",
        "where IDCG is ideal discounted cumulative gain"
      ]
    },
    {
      "cell_type": "code",
      "execution_count": null,
      "metadata": {
        "id": "jwsSR-8ZdGWo"
      },
      "outputs": [],
      "source": [
        "# Normalized DCG\n",
        "def ndcg_k(y_hat, y, k):\n",
        "    score_label = np.stack([y_hat, y], axis=1).tolist()\n",
        "    score_label = sorted(score_label, key=lambda d:d[0], reverse=True)\n",
        "    score_label_ = sorted(score_label, key=lambda d:d[1], reverse=True)\n",
        "    norm, i = 0., 0\n",
        "    for s in score_label_:\n",
        "        if i < k:\n",
        "            norm += (2**s[1]-1) / np.log2(2+i)\n",
        "            i += 1\n",
        "    dcg = dcg_k(score_label, k)\n",
        "    return dcg / norm"
      ]
    },
    {
      "cell_type": "code",
      "execution_count": null,
      "metadata": {
        "id": "yy9eQS51pbhj"
      },
      "outputs": [],
      "source": [
        "def call_ndcg(y_hat, y):\n",
        "    ndcg_sum, num = 0, 0\n",
        "    y_hat, y = tf.transpose(y_hat), tf.transpose(y)\n",
        "    n_users = y.shape[0]\n",
        "\n",
        "    for i in range(n_users):\n",
        "        mask = y[i] != 0\n",
        "        y_hat_i = tf.boolean_mask(y_hat[i], mask)\n",
        "        y_i = tf.boolean_mask(y[i], mask)\n",
        "\n",
        "        if y_i.shape[0] < 2:\n",
        "            continue\n",
        "\n",
        "        ndcg_sum += ndcg_k(y_hat_i, y_i, y_i.shape[0])  # user-wise calculation\n",
        "        num += 1\n",
        "\n",
        "    return ndcg_sum / num"
      ]
    },
    {
      "cell_type": "markdown",
      "metadata": {
        "id": "RXXQjeMxmYEC"
      },
      "source": [
        "# Training and Test Loop"
      ]
    },
    {
      "cell_type": "code",
      "execution_count": null,
      "metadata": {
        "id": "d3iUHFOi968j"
      },
      "outputs": [],
      "source": [
        "# Convert the numpy array to a tf.data.Dataset\n",
        "train_dataset = tf.data.Dataset.from_tensor_slices(train_r)\n",
        "\n",
        "# Shuffle and batch the dataset\n",
        "train_dataset = train_dataset.shuffle(buffer_size=1024).batch(batch_size)\n",
        "\n"
      ]
    },
    {
      "cell_type": "code",
      "execution_count": null,
      "metadata": {
        "id": "YPE-FcrEqkUe"
      },
      "outputs": [],
      "source": [
        "def pre_train(dataset, model, optimizer):\n",
        "\n",
        "    for step, data in enumerate(dataset):\n",
        "        loss = None\n",
        "        error_test_total = None\n",
        "        error_train_total = None\n",
        "        # Run the forward pass of the layer.\n",
        "        # The operations that the layer applies to its inputs are going to be recorded on the GradientTape.\n",
        "        with tf.GradientTape() as tape:\n",
        "            pred_p, loss_p, error_test, error_train = model(data, step)\n",
        "            if error_test_total is None:\n",
        "                error_test_total = error_test\n",
        "                error_train_total = error_train\n",
        "            else:\n",
        "                error_test_total += error_test\n",
        "                error_train_total += error_train\n",
        "\n",
        "        grads = tape.gradient(loss_p, model.trainable_weights)\n",
        "        # Run one step of gradient descent by updating the value of the variables to minimize the loss.\n",
        "        optimizer.apply_gradients(zip(grads, model.trainable_weights))\n",
        "    train_rmse = np.sqrt(error_train_total/tf.math.reduce_sum(train_m))\n",
        "    test_rmse = np.sqrt(error_test_total/tf.math.reduce_sum(test_m))\n",
        "    return train_rmse, test_rmse\n"
      ]
    },
    {
      "cell_type": "code",
      "source": [
        "def fine_tune(dataset, model, optimizer):\n",
        "\n",
        "    for step, data in enumerate(dataset):\n",
        "        if step > 4:\n",
        "          break\n",
        "        loss = None\n",
        "        error_test_total = None\n",
        "        error_train_total = None\n",
        "        test_mae_total = None\n",
        "        train_mae_total = None\n",
        "        test_ndcg_total = None\n",
        "        train_ndcg_total = None\n",
        "\n",
        "\n",
        "        # Run the forward pass of the layer.\n",
        "        # The operations that the layer applies to its inputs are going to be recorded on the GradientTape.\n",
        "        with tf.GradientTape() as tape:\n",
        "            pred_f, loss_p, error_train, error_test, test_mae, train_mae, test_ndcg, train_ndcg = model(data, step)\n",
        "            if error_test_total is None:\n",
        "                error_test_total = error_test\n",
        "                error_train_total = error_train\n",
        "                test_mae_total = test_mae\n",
        "                train_mae_total = train_mae\n",
        "                test_ndcg_total = test_ndcg\n",
        "                train_ndcg_total = train_ndcg\n",
        "            else:\n",
        "                error_test_total += error_test\n",
        "                error_train_total += error_train\n",
        "                test_mae_total += test_mae\n",
        "                train_mae_total += train_mae\n",
        "                test_ndcg_total += test_ndcg\n",
        "                train_ndcg_total += train_ndcg\n",
        "        grads = tape.gradient(loss_p, model.trainable_weights)\n",
        "        # Run one step of gradient descent by updating the value of the variables to minimize the loss.\n",
        "        optimizer.apply_gradients(zip(grads, model.trainable_weights))\n",
        "    train_rmse = np.sqrt(error_train_total/tf.math.reduce_sum(train_m))\n",
        "    test_rmse = np.sqrt(error_test_total/tf.math.reduce_sum(test_m))\n",
        "\n",
        "    train_mae = train_mae_total / tf.math.reduce_sum(test_m)\n",
        "    test_mae = test_mae_total / tf.math.reduce_sum(test_m)\n",
        "\n",
        "    train_ndcg = train_ndcg_total\n",
        "    test_ndcg = test_ndcg_total\n",
        "    return train_rmse, test_rmse, train_mae, test_mae, train_ndcg, test_ndcg"
      ],
      "metadata": {
        "id": "3XiYK5u2JcNc"
      },
      "execution_count": null,
      "outputs": []
    },
    {
      "cell_type": "code",
      "execution_count": null,
      "metadata": {
        "id": "UZ35Zoha-Eue"
      },
      "outputs": [],
      "source": [
        "# Create an instance of the model\n",
        "model = PreTrainModel()\n",
        "optimizer = tf.keras.optimizers.Adam(learning_rate=0.001)\n",
        "\n",
        "time_cumulative = 0\n",
        "#for i in range(epoch_p):\n",
        "for i in range(2):\n",
        "    tic = time()\n",
        "    train_rmse, test_rmse = pre_train(train_dataset, model, optimizer)\n",
        "    t = time() - tic\n",
        "    time_cumulative += t\n",
        "    print('.-^-._' * 3)\n",
        "    print('PRE-TRAINING')\n",
        "    print('Epoch:', i+1)\n",
        "    print('test rmse:', test_rmse)\n",
        "    print('train rmse:', train_rmse)\n",
        "    print('Time:', t, 'seconds')\n",
        "    print('Time cumulative:', time_cumulative, 'seconds')\n",
        "    print('.-^-._' * 3)"
      ]
    },
    {
      "cell_type": "code",
      "source": [
        "\n",
        "best_rmse_ep, best_mae_ep, best_ndcg_ep = 0, 0, 0\n",
        "best_rmse, best_mae, best_ndcg = float(\"inf\"), float(\"inf\"), 0\n",
        "model = FineTuneModel()\n",
        "optimizer = tf.keras.optimizers.Adam(learning_rate=0.001)\n",
        "\n",
        "for i in range(2):\n",
        "    tic = time()\n",
        "    train_rmse, test_rmse, train_mae, test_mae, train_ndcg, test_ndcg = fine_tune(train_dataset, model, optimizer)\n",
        "    if test_rmse < best_rmse:\n",
        "        best_rmse = test_rmse\n",
        "        best_rmse_ep = i+1\n",
        "\n",
        "    if test_mae < best_mae:\n",
        "        best_mae = test_mae\n",
        "        best_mae_ep = i+1\n",
        "\n",
        "    if best_ndcg < test_ndcg:\n",
        "        best_ndcg = test_ndcg\n",
        "        best_ndcg_ep = i+1\n",
        "    t = time() - tic\n",
        "    time_cumulative += t\n",
        "    print('.-^-._' * 3)\n",
        "    print('PRE-TRAINING')\n",
        "    print('Epoch:', i+1)\n",
        "    print('test rmse:', test_rmse)\n",
        "    print('train rmse:', train_rmse)\n",
        "    print('Time:', t, 'seconds')\n",
        "    print('Time cumulative:', time_cumulative, 'seconds')\n",
        "    print('.-^-._' * 3)"
      ],
      "metadata": {
        "id": "ZaTeZr7NN1ah"
      },
      "execution_count": null,
      "outputs": []
    },
    {
      "cell_type": "code",
      "source": [
        "\n",
        "# Final result\n",
        "print('Epoch:', best_rmse_ep, ' best rmse:', best_rmse)\n",
        "print('Epoch:', best_mae_ep, ' best mae:', best_mae)\n",
        "print('Epoch:', best_ndcg_ep, ' best ndcg:', best_ndcg)"
      ],
      "metadata": {
        "id": "8GrRYG_gU7D5"
      },
      "execution_count": null,
      "outputs": []
    }
  ],
  "metadata": {
    "accelerator": "GPU",
    "colab": {
      "machine_shape": "hm",
      "provenance": []
    },
    "kernelspec": {
      "display_name": "Python 3",
      "name": "python3"
    }
  },
  "nbformat": 4,
  "nbformat_minor": 0
}